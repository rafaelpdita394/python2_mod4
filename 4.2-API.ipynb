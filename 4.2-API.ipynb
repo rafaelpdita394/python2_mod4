{
 "cells": [
  {
   "cell_type": "markdown",
   "metadata": {},
   "source": [
    "> Projeto Desenvolve <br>\n",
    "Programação Intermediária com Python <br>\n",
    "Profa. Camila Laranjeira (mila@projetodesenvolve.com.br) <br>\n",
    "\n",
    "# 4.2 - APIs\n"
   ]
  },
  {
   "cell_type": "markdown",
   "metadata": {},
   "source": [
    "## Exercícios 🔭🌌🪐\n",
    "\n",
    "Vamos acessar as APIs da NASA para ver algumas imagens interessantes capturadas universo afora!\n",
    "\n",
    "#### Q1.\n",
    "Crie uma chave no site oficial:\n",
    "* https://api.nasa.gov\n",
    "\n",
    "Vamos armazenar a chave de forma segura! <br>\n",
    "Salve a sua chave em um arquivo `key.json` na forma:\n",
    "`API_KEY=SUA_CHAVE`\n",
    "\n",
    "Adicione o nome do arquivo `key.json` ao `.gitignore` do repositório que você fará upload da atividade.\n",
    "Para isso basta abrir o arquivo `.gitignore` na pasta raíz do repositório (ou criar um caso ele não exista). Dentro do arquivo, apenas adiciona o nome do arquivo que deseja ignorar."
   ]
  },
  {
   "cell_type": "markdown",
   "metadata": {},
   "source": [
    "#### Q2. 🛰 Astronomy Picture of the Day (APOD) 🌌\n",
    "> Antes de fazer os exercícios, devo te lembrar que existem limites de acesso às APIs, descritas na página principal, portanto pega leve na tentativa e erro na hora de testar seu código.\n",
    "\n",
    "<img width=500 src=https://apod.nasa.gov/apod/image/2407/M24-HaLRGB-RC51_1024.jpg>\n",
    "\n",
    "A primeira API que acessaremos é a mais popular de todas: astronomy picture of the day (foto astronômica do dia).\n",
    "\n",
    "Faça uma requisição GET para a URL da API que retorna a imagem do dia! Essa é fácil já que são os valores padrão da rota principal:\n",
    "* URL base: `'https://api.nasa.gov/planetary/apod'`\n",
    "* Endpoint: não precisa preencher, acessaremos a raíz da API.\n",
    "* Query params: preencha `api_key` com a sua chave de autenticação. Se animar mexer em outros parâmetros veja [a documentação](https://api.nasa.gov).\n",
    "\n",
    "Ao receber a resposta (um json), você deve:\n",
    "* Imprimir os campos `copyright` e `explanation`\n",
    "* Com as biblioteca scikit-images e matplotlib, apresente a imagem a partir do campo `url` ou `hdurl`, e preencha o título do plot com o campo `title` do json. Uma dica de código a seguir.\n",
    "```python\n",
    "from skimage import io\n",
    "img = io.imread(url)\n",
    "## plot a matriz img com matplotlib (imshow)\n",
    "```   "
   ]
  },
  {
   "cell_type": "code",
   "execution_count": 1,
   "metadata": {},
   "outputs": [
    {
     "ename": "ModuleNotFoundError",
     "evalue": "No module named 'requests'",
     "output_type": "error",
     "traceback": [
      "\u001b[31m---------------------------------------------------------------------------\u001b[39m",
      "\u001b[31mModuleNotFoundError\u001b[39m                       Traceback (most recent call last)",
      "\u001b[36mCell\u001b[39m\u001b[36m \u001b[39m\u001b[32mIn[1]\u001b[39m\u001b[32m, line 1\u001b[39m\n\u001b[32m----> \u001b[39m\u001b[32m1\u001b[39m \u001b[38;5;28;01mimport\u001b[39;00m\u001b[38;5;250m \u001b[39m\u001b[34;01mrequests\u001b[39;00m\n\u001b[32m      2\u001b[39m \u001b[38;5;28;01mfrom\u001b[39;00m\u001b[38;5;250m \u001b[39m\u001b[34;01mskimage\u001b[39;00m\u001b[38;5;250m \u001b[39m\u001b[38;5;28;01mimport\u001b[39;00m io\n\u001b[32m      3\u001b[39m \u001b[38;5;28;01mimport\u001b[39;00m\u001b[38;5;250m \u001b[39m\u001b[34;01mmatplotlib\u001b[39;00m\u001b[34;01m.\u001b[39;00m\u001b[34;01mpyplot\u001b[39;00m\u001b[38;5;250m \u001b[39m\u001b[38;5;28;01mas\u001b[39;00m\u001b[38;5;250m \u001b[39m\u001b[34;01mplt\u001b[39;00m\n",
      "\u001b[31mModuleNotFoundError\u001b[39m: No module named 'requests'"
     ]
    }
   ],
   "source": [
    "import requests\n",
    "from skimage import io\n",
    "import matplotlib.pyplot as plt\n",
    "\n",
    "# Lê a chave\n",
    "with open(\"key.json\") as f:\n",
    "    api_key = json.load(f)[\"API_KEY\"]\n",
    "\n",
    "url = \"https://api.nasa.gov/planetary/apod\"\n",
    "params = {\"api_key\": api_key}\n",
    "\n",
    "response = requests.get(url, params=params)\n",
    "data = response.json()\n",
    "\n",
    "# Mostra informações principais\n",
    "print(\"Copyright:\", data.get(\"copyright\", \"Desconhecido\"))\n",
    "print(\"Explicação:\", data[\"explanation\"])\n",
    "\n",
    "# Exibe a imagem\n",
    "img = io.imread(data[\"url\"])\n",
    "plt.imshow(img)\n",
    "plt.title(data[\"title\"])\n",
    "plt.axis(\"off\")\n",
    "plt.show()\n"
   ]
  },
  {
   "cell_type": "markdown",
   "metadata": {},
   "source": [
    "#### Q3. Limites\n",
    "A partir da resposta da query anterios, imprima o header da resposta e consulte os atributos:\n",
    "* X-RateLimit-Limit: o limite total de requisições da sua chave de API\n",
    "* X-RateLimit-Remaining: o limite restante de requisições da sua chave de API"
   ]
  },
  {
   "cell_type": "code",
   "execution_count": null,
   "metadata": {},
   "outputs": [],
   "source": [
    "print(\"Limite total:\", response.headers.get(\"X-RateLimit-Limit\"))\n",
    "print(\"Requisições restantes:\", response.headers.get(\"X-RateLimit-Remaining\"))\n"
   ]
  },
  {
   "cell_type": "markdown",
   "metadata": {},
   "source": [
    "### Q4. Mars Rover Photos 🚀🚙 📷\n",
    "\n",
    "<img width=500 src=https://www.nasa.gov/wp-content/uploads/2019/10/pia23378-16.jpg>\n",
    "\n",
    "Essa API retorna dados (incluindo imagens capturadas) sobre os veículos que hoje habitam o planeta Marte. São os rovers `opportunity`, `spirit` e o mais famoso, o `curiosity` (da foto acima).\n",
    "\n",
    "Antes de requisitar imagens, vamos ver o relatório de dados coletados por um deles, o `curiosity`. Isso vai nos ajudar a montar a query de imagens coletadas.\n",
    "\n",
    "Faça uma requisição GET para a seguinte URL:\n",
    "* URL base: `'https://api.nasa.gov/mars-photos/api/v1'`\n",
    "* endpoint: `'/manifests/{nome_do_rover}'`\n",
    "* query parameters: preencha `api_key` com a sua chave de autenticação.\n",
    "\n",
    "Extraia o json da resposta retornada. O campo principal é o `'photo_manifest'`, do qual queremos acessar os seguintes valores:\n",
    "* `max_sol`: Máximo \"dia marciano\" de coleta de fotos. O dia marciano tem 24 horas, 39 minutos e 35 segundos.\n",
    "* `max_date`: Última data terrestre de coleta de fotos, na forma `'aaaa-mm-dd'`.\n",
    "\n",
    "Imprima esses dois atributos da resposta e os use no próximo exercício para coletar as fotos mais recentes tiradas. "
   ]
  },
  {
   "cell_type": "code",
   "execution_count": 3,
   "metadata": {},
   "outputs": [
    {
     "ename": "NameError",
     "evalue": "name 'api_key' is not defined",
     "output_type": "error",
     "traceback": [
      "\u001b[31m---------------------------------------------------------------------------\u001b[39m",
      "\u001b[31mNameError\u001b[39m                                 Traceback (most recent call last)",
      "\u001b[36mCell\u001b[39m\u001b[36m \u001b[39m\u001b[32mIn[3]\u001b[39m\u001b[32m, line 2\u001b[39m\n\u001b[32m      1\u001b[39m url_manifest = \u001b[33m\"\u001b[39m\u001b[33mhttps://api.nasa.gov/mars-photos/api/v1/manifests/curiosity\u001b[39m\u001b[33m\"\u001b[39m\n\u001b[32m----> \u001b[39m\u001b[32m2\u001b[39m params = {\u001b[33m\"\u001b[39m\u001b[33mapi_key\u001b[39m\u001b[33m\"\u001b[39m: \u001b[43mapi_key\u001b[49m}\n\u001b[32m      4\u001b[39m resp = requests.get(url_manifest, params=params)\n\u001b[32m      5\u001b[39m data = resp.json()\n",
      "\u001b[31mNameError\u001b[39m: name 'api_key' is not defined"
     ]
    }
   ],
   "source": [
    "url_manifest = \"https://api.nasa.gov/mars-photos/api/v1/manifests/curiosity\"\n",
    "params = {\"api_key\": api_key}\n",
    "\n",
    "resp = requests.get(url_manifest, params=params)\n",
    "data = resp.json()\n",
    "\n",
    "manifest = data[\"photo_manifest\"]\n",
    "print(\"Máximo Sol (dia marciano):\", manifest[\"max_sol\"])\n",
    "print(\"Última data terrestre:\", manifest[\"max_date\"])\n"
   ]
  },
  {
   "cell_type": "markdown",
   "metadata": {},
   "source": [
    "#### Q5.\n",
    "\n",
    "Faça uma requisição GET para a URL da API que retorna links para as imagens coletadas pelos rovers.\n",
    "\n",
    "* URL base: `'https://api.nasa.gov/mars-photos/api/v1'`\n",
    "* Endpoint: `/rovers/{nome_do_rover}/photos`\n",
    "* Query params sugeridos: \n",
    "    * `api_key`: sua chave de autenticação.\n",
    "    * `sol`: dia marciano que deseja coletar (de 0 a `max_sol` coletado anteriormente)\n",
    "    * `page`: você pode paginar entre as respostas! São retornados 25 resultados por página.\n",
    "\n",
    "A resposta esperada estará no formato a seguir, uma lista no campo `'photos'` onde cada item é um dicionário com os dados da foto tirada. Dentre os dados há o campo `camera` indicando qual das câmeras do rover tirou a foto. As fotos mais interessantes (na minha opinião, claro) são das câmeras de navegação (`\"name\": \"NAVCAM\"`) e as de prevenção de colisão (frente: `\"name\": \"FHAZ\"` e trás `\"name\": \"RHAZ\"`) onde dá pra ver partes do robô!\n",
    "\n",
    "**Seu trabalho é**:\n",
    "* Paginar a requisição acima até que a resposta seja `None`\n",
    "* Escolher uma ou mais câmeras (ex: `NAVCAM`, `FHAZ`, `RHAZ`), e em um laço de repetição plotar todas as imagens retornadas daquela câmera. Use novamente as bibliotecas scikit-image e matplotlib. \n",
    "  * O título da imagem deve ter a página da requisição, nome da câmera e id da imagem.\n",
    "\n",
    "```json\n",
    "{\n",
    "  \"photos\": [\n",
    "    {\n",
    "      \"id\": 1228212,\n",
    "      \"sol\": 4102,\n",
    "      \"camera\": {\n",
    "        \"id\": 20,\n",
    "        \"name\": \"FHAZ\",\n",
    "        \"rover_id\": 5,\n",
    "        \"full_name\": \"Front Hazard Avoidance Camera\"\n",
    "      },\n",
    "      \"img_src\": \"https://mars.nasa.gov/msl-raw-images/proj/msl/redops/ods/surface/sol/04102/opgs/edr/fcam/FLB_761645828EDR_F1060660FHAZ00302M_.JPG\",\n",
    "      \"earth_date\": \"2024-02-19\",\n",
    "      \"rover\": {\n",
    "        \"id\": 5,\n",
    "        \"name\": \"Curiosity\",\n",
    "        ...\n",
    "      }\n",
    "    }\n",
    "    {\n",
    "      \"id\": 1228213,\n",
    "      \"sol\": 4102, \n",
    "      ...\n",
    "    }\n",
    "```\n",
    "\n"
   ]
  },
  {
   "cell_type": "code",
   "execution_count": 2,
   "metadata": {},
   "outputs": [
    {
     "ename": "NameError",
     "evalue": "name 'manifest' is not defined",
     "output_type": "error",
     "traceback": [
      "\u001b[31m---------------------------------------------------------------------------\u001b[39m",
      "\u001b[31mNameError\u001b[39m                                 Traceback (most recent call last)",
      "\u001b[36mCell\u001b[39m\u001b[36m \u001b[39m\u001b[32mIn[2]\u001b[39m\u001b[32m, line 3\u001b[39m\n\u001b[32m      1\u001b[39m url_photos = \u001b[33m\"\u001b[39m\u001b[33mhttps://api.nasa.gov/mars-photos/api/v1/rovers/curiosity/photos\u001b[39m\u001b[33m\"\u001b[39m\n\u001b[32m----> \u001b[39m\u001b[32m3\u001b[39m max_sol = \u001b[43mmanifest\u001b[49m[\u001b[33m\"\u001b[39m\u001b[33mmax_sol\u001b[39m\u001b[33m\"\u001b[39m]\n\u001b[32m      4\u001b[39m page = \u001b[32m1\u001b[39m\n\u001b[32m      6\u001b[39m \u001b[38;5;28;01mwhile\u001b[39;00m \u001b[38;5;28;01mTrue\u001b[39;00m:\n",
      "\u001b[31mNameError\u001b[39m: name 'manifest' is not defined"
     ]
    }
   ],
   "source": [
    "url_photos = \"https://api.nasa.gov/mars-photos/api/v1/rovers/curiosity/photos\"\n",
    "\n",
    "max_sol = manifest[\"max_sol\"]\n",
    "page = 1\n",
    "\n",
    "while True:\n",
    "    params = {\"api_key\": api_key, \"sol\": max_sol, \"page\": page}\n",
    "    response = requests.get(url_photos, params=params)\n",
    "    data = response.json()[\"photos\"]\n",
    "\n",
    "    if not data:\n",
    "        break\n",
    "\n",
    "    for photo in data:\n",
    "        camera = photo[\"camera\"][\"name\"]\n",
    "        if camera in [\"NAVCAM\", \"FHAZ\", \"RHAZ\"]:\n",
    "            img_url = photo[\"img_src\"]\n",
    "            img = io.imread(img_url)\n",
    "            plt.imshow(img)\n",
    "            plt.title(f\"Página {page} | Câmera: {camera} | ID: {photo['id']}\")\n",
    "            plt.axis(\"off\")\n",
    "            plt.show()\n",
    "\n",
    "    page += 1\n"
   ]
  }
 ],
 "metadata": {
  "kernelspec": {
   "display_name": "Python 3",
   "language": "python",
   "name": "python3"
  },
  "language_info": {
   "codemirror_mode": {
    "name": "ipython",
    "version": 3
   },
   "file_extension": ".py",
   "mimetype": "text/x-python",
   "name": "python",
   "nbconvert_exporter": "python",
   "pygments_lexer": "ipython3",
   "version": "3.11.9"
  }
 },
 "nbformat": 4,
 "nbformat_minor": 2
}
